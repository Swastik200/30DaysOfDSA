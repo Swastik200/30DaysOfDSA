{
  "nbformat": 4,
  "nbformat_minor": 0,
  "metadata": {
    "colab": {
      "provenance": [],
      "authorship_tag": "ABX9TyNKhEjaCaz3BX/0OZB4wkfj",
      "include_colab_link": true
    },
    "kernelspec": {
      "name": "python3",
      "display_name": "Python 3"
    },
    "language_info": {
      "name": "python"
    }
  },
  "cells": [
    {
      "cell_type": "markdown",
      "metadata": {
        "id": "view-in-github",
        "colab_type": "text"
      },
      "source": [
        "<a href=\"https://colab.research.google.com/github/Swastik200/30DaysOfDSA/blob/main/Genetic_Algorithm.ipynb\" target=\"_parent\"><img src=\"https://colab.research.google.com/assets/colab-badge.svg\" alt=\"Open In Colab\"/></a>"
      ]
    },
    {
      "cell_type": "code",
      "execution_count": 1,
      "metadata": {
        "colab": {
          "base_uri": "https://localhost:8080/"
        },
        "id": "Ad_Hr0RG8iJK",
        "outputId": "f0657188-30cb-43f6-9ee7-272e3faab42e"
      },
      "outputs": [
        {
          "output_type": "stream",
          "name": "stdout",
          "text": [
            "Collecting pyMetaheuristic\n",
            "  Downloading pyMetaheuristic-1.9.5-py3-none-any.whl (98 kB)\n",
            "\u001b[2K     \u001b[90m━━━━━━━━━━━━━━━━━━━━━━━━━━━━━━━━━━━━━━━━\u001b[0m \u001b[32m98.4/98.4 kB\u001b[0m \u001b[31m1.5 MB/s\u001b[0m eta \u001b[36m0:00:00\u001b[0m\n",
            "\u001b[?25hRequirement already satisfied: numpy in /usr/local/lib/python3.10/dist-packages (from pyMetaheuristic) (1.25.2)\n",
            "Requirement already satisfied: plotly in /usr/local/lib/python3.10/dist-packages (from pyMetaheuristic) (5.15.0)\n",
            "Requirement already satisfied: scipy in /usr/local/lib/python3.10/dist-packages (from pyMetaheuristic) (1.11.4)\n",
            "Requirement already satisfied: tenacity>=6.2.0 in /usr/local/lib/python3.10/dist-packages (from plotly->pyMetaheuristic) (8.2.3)\n",
            "Requirement already satisfied: packaging in /usr/local/lib/python3.10/dist-packages (from plotly->pyMetaheuristic) (24.0)\n",
            "Installing collected packages: pyMetaheuristic\n",
            "Successfully installed pyMetaheuristic-1.9.5\n"
          ]
        }
      ],
      "source": [
        "!pip install pyMetaheuristic"
      ]
    },
    {
      "cell_type": "code",
      "source": [
        "import numpy as np\n",
        "import pandas as pd\n",
        "from sklearn.model_selection import train_test_split\n",
        "from sklearn.metrics import mean_squared_error, r2_score, mean_absolute_error\n",
        "from sklearn.linear_model import LinearRegression\n",
        "from pyMetaheuristic.algorithm import genetic_algorithm\n",
        "from pyMetaheuristic.utils import graphs"
      ],
      "metadata": {
        "id": "aVvLpdDxMxgX"
      },
      "execution_count": 2,
      "outputs": []
    },
    {
      "cell_type": "code",
      "source": [
        "from google.colab import drive\n",
        "drive.mount('/content/drive')"
      ],
      "metadata": {
        "colab": {
          "base_uri": "https://localhost:8080/"
        },
        "id": "PRk6hv6aM2QV",
        "outputId": "ec1163a6-77b4-46f1-a81b-fc019b46ec34"
      },
      "execution_count": 3,
      "outputs": [
        {
          "output_type": "stream",
          "name": "stdout",
          "text": [
            "Mounted at /content/drive\n"
          ]
        }
      ]
    },
    {
      "cell_type": "code",
      "source": [
        "!cp \"/content/drive/MyDrive/CMAPSS.zip\" \"/content\"\n",
        "!unzip CMAPSS.zip"
      ],
      "metadata": {
        "colab": {
          "base_uri": "https://localhost:8080/"
        },
        "id": "_w-dAhOpM43T",
        "outputId": "a771cb6c-38ec-46af-e890-23b4107dba44"
      },
      "execution_count": 4,
      "outputs": [
        {
          "output_type": "stream",
          "name": "stdout",
          "text": [
            "Archive:  CMAPSS.zip\n",
            "  inflating: CMAPSS/readme.txt       \n",
            "  inflating: CMAPSS/RUL_FD001.txt    \n",
            "  inflating: CMAPSS/RUL_FD002.txt    \n",
            "  inflating: CMAPSS/RUL_FD003.txt    \n",
            "  inflating: CMAPSS/RUL_FD004.txt    \n",
            "  inflating: CMAPSS/test_FD001.txt   \n",
            "  inflating: CMAPSS/test_FD002.txt   \n",
            "  inflating: CMAPSS/test_FD003.txt   \n",
            "  inflating: CMAPSS/test_FD004.txt   \n",
            "  inflating: CMAPSS/train_FD001.txt  \n",
            "  inflating: CMAPSS/train_FD002.txt  \n",
            "  inflating: CMAPSS/train_FD003.txt  \n",
            "  inflating: CMAPSS/train_FD004.txt  \n",
            "  inflating: CMAPSS/x.txt            \n"
          ]
        }
      ]
    },
    {
      "cell_type": "code",
      "source": [
        "index_names = ['unit_number', 'time_cycles']\n",
        "setting_names = ['setting_1', 'setting_2', 'setting_3']\n",
        "sensor_names = ['sensor_{}'.format(i) for i in range(1, 22)]\n",
        "col_names = index_names + setting_names + sensor_names"
      ],
      "metadata": {
        "id": "RsPHO2zANAk6"
      },
      "execution_count": 5,
      "outputs": []
    },
    {
      "cell_type": "code",
      "source": [
        "path = '/content/CMAPSS/'\n",
        "df_train = pd.read_csv(path + 'train_FD001.txt', sep='\\s+', header=None, index_col=False, names=col_names)\n",
        "df_test = pd.read_csv(path + 'test_FD001.txt', sep='\\s+', header=None, index_col=False, names=col_names)\n",
        "y_test = pd.read_csv(path + 'RUL_FD001.txt', sep='\\s+', header=None, index_col=False, names=['RUL'])"
      ],
      "metadata": {
        "id": "FySkt3Q2NHSz"
      },
      "execution_count": 6,
      "outputs": []
    },
    {
      "cell_type": "code",
      "source": [
        "# Calculate 'RUL' column based on 'time_cycles' and 'unit_number' columns\n",
        "max_cycles = df_train.groupby('unit_number')['time_cycles'].max()\n",
        "df_train['RUL'] = df_train.apply(lambda row: max_cycles[row['unit_number']] - row['time_cycles'], axis=1)\n",
        "# Calculate 'RUL' column based on 'time_cycles' and 'unit_number' columns\n",
        "max_cycles = df_test.groupby('unit_number')['time_cycles'].max()\n",
        "df_test['RUL'] = df_test.apply(lambda row: max_cycles[row['unit_number']] - row['time_cycles'], axis=1)\n"
      ],
      "metadata": {
        "id": "SBK9GW6FNKQD"
      },
      "execution_count": 8,
      "outputs": []
    },
    {
      "cell_type": "code",
      "source": [
        "X_train = df_train.drop(columns=['RUL'])\n",
        "y_train = df_train['RUL']\n",
        "X_test = df_test.drop(columns=['RUL'])\n",
        "y_test = y_test['RUL']\n"
      ],
      "metadata": {
        "id": "WZHeZ_xnNbDF"
      },
      "execution_count": 9,
      "outputs": []
    },
    {
      "cell_type": "code",
      "source": [
        "parameters = {\n",
        "    'population_size': 250,\n",
        "    'min_values': [-5] * len(X_train.columns),  # Adjust according to your feature space\n",
        "    'max_values': [5] * len(X_train.columns),  # Adjust according to your feature space\n",
        "    'generations': 10,\n",
        "    'mutation_rate': 0.1,\n",
        "    'elite': 1,\n",
        "    'eta': 1,\n",
        "    'mu': 1,\n",
        "    'verbose': True,\n",
        "    'start_init': None,\n",
        "    'target_value': None\n",
        "}"
      ],
      "metadata": {
        "id": "QS_SzWU0NdQU"
      },
      "execution_count": 10,
      "outputs": []
    },
    {
      "cell_type": "code",
      "source": [
        "def target_function(variables_values):\n",
        "    # Train the regression model\n",
        "    model = LinearRegression()\n",
        "    model.fit(X_train, y_train)\n",
        "    # Predict using the trained model\n",
        "    predictions = model.predict(X_test)\n",
        "    # Calculate RMSE\n",
        "    rmse = np.sqrt(mean_squared_error(y_test, predictions))\n",
        "    return rmse"
      ],
      "metadata": {
        "id": "kYMLTVTLNkE3"
      },
      "execution_count": 11,
      "outputs": []
    },
    {
      "cell_type": "code",
      "source": [
        "# Assuming you have already loaded your dataset into variables df_train and df_test\n",
        "\n",
        "# Define X and y for the training dataset\n",
        "X_train = df_train.drop(columns=['RUL'])  # Features\n",
        "y_train = df_train['RUL']  # Target variable\n",
        "\n",
        "# Define X and y for the testing dataset\n",
        "X_test = df_test.drop(columns=['RUL'])  # Features\n",
        "y_test = df_test['RUL']  # Target variable\n",
        "\n",
        "# Split the data into training and testing sets\n",
        "X_train, X_test, y_train, y_test = train_test_split(X_train, y_train, test_size=0.2, random_state=42)\n"
      ],
      "metadata": {
        "id": "yeZqPOFZNpNL"
      },
      "execution_count": 14,
      "outputs": []
    },
    {
      "cell_type": "code",
      "source": [
        "ga_result = genetic_algorithm(target_function=target_function, **parameters)"
      ],
      "metadata": {
        "colab": {
          "base_uri": "https://localhost:8080/"
        },
        "id": "hCfMlPptNF8W",
        "outputId": "73be30ab-105b-475b-bfa6-2cffb001b23b"
      },
      "execution_count": 15,
      "outputs": [
        {
          "output_type": "stream",
          "name": "stdout",
          "text": [
            "Generation =  0  f(x) =  39.22801459451258\n",
            "Generation =  1  f(x) =  39.22801459451258\n",
            "Generation =  2  f(x) =  39.22801459451258\n",
            "Generation =  3  f(x) =  39.22801459451258\n",
            "Generation =  4  f(x) =  39.22801459451258\n",
            "Generation =  5  f(x) =  39.22801459451258\n",
            "Generation =  6  f(x) =  39.22801459451258\n",
            "Generation =  7  f(x) =  39.22801459451258\n",
            "Generation =  8  f(x) =  39.22801459451258\n",
            "Generation =  9  f(x) =  39.22801459451258\n",
            "Generation =  10  f(x) =  39.22801459451258\n"
          ]
        }
      ]
    },
    {
      "cell_type": "code",
      "source": [
        "optimized_model = LinearRegression().fit(X_test, y_test)"
      ],
      "metadata": {
        "id": "ETZ1WZnZQmO2"
      },
      "execution_count": 16,
      "outputs": []
    },
    {
      "cell_type": "code",
      "source": [
        "rmse_test = np.sqrt(mean_squared_error(y_test, optimized_model.predict(X_test)))\n",
        "r2_test = r2_score(y_test, optimized_model.predict(X_test))\n",
        "mae_test = mean_absolute_error(y_test, optimized_model.predict(X_test))"
      ],
      "metadata": {
        "id": "yMd9dVmfQq3T"
      },
      "execution_count": 17,
      "outputs": []
    },
    {
      "cell_type": "code",
      "source": [
        "print('RMSE (Test):', rmse_test)\n",
        "print('R2 Score (Test):', r2_test)\n",
        "print('MAE (Test):', mae_test)"
      ],
      "metadata": {
        "colab": {
          "base_uri": "https://localhost:8080/"
        },
        "id": "1WUO8VMbQwru",
        "outputId": "56c085c2-34be-47d4-f2ec-f7a740265057"
      },
      "execution_count": 18,
      "outputs": [
        {
          "output_type": "stream",
          "name": "stdout",
          "text": [
            "RMSE (Test): 38.96712711655703\n",
            "R2 Score (Test): 0.6676504517530486\n",
            "MAE (Test): 30.025205313555507\n"
          ]
        }
      ]
    },
    {
      "cell_type": "code",
      "source": [],
      "metadata": {
        "id": "GvU1-mt-Q3Mq"
      },
      "execution_count": null,
      "outputs": []
    },
    {
      "cell_type": "code",
      "source": [],
      "metadata": {
        "id": "yKiYSnFUNF_Q"
      },
      "execution_count": null,
      "outputs": []
    }
  ]
}