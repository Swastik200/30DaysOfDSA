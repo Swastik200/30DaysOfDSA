{
  "nbformat": 4,
  "nbformat_minor": 0,
  "metadata": {
    "colab": {
      "provenance": [],
      "authorship_tag": "ABX9TyNXsPic8VflAKUIIpfDdLbo",
      "include_colab_link": true
    },
    "kernelspec": {
      "name": "python3",
      "display_name": "Python 3"
    },
    "language_info": {
      "name": "python"
    }
  },
  "cells": [
    {
      "cell_type": "markdown",
      "metadata": {
        "id": "view-in-github",
        "colab_type": "text"
      },
      "source": [
        "<a href=\"https://colab.research.google.com/github/Swastik200/30DaysOfDSA/blob/main/Input_Attn_Upgrad3.ipynb\" target=\"_parent\"><img src=\"https://colab.research.google.com/assets/colab-badge.svg\" alt=\"Open In Colab\"/></a>"
      ]
    },
    {
      "cell_type": "code",
      "execution_count": 1,
      "metadata": {
        "id": "24GLl6dfc4Ja"
      },
      "outputs": [],
      "source": [
        "import numpy as np\n",
        "import pandas as pd\n",
        "import os\n",
        "import numpy as np\n",
        "import pandas as pd\n",
        "import seaborn as sns\n",
        "import matplotlib.pyplot as plt\n"
      ]
    },
    {
      "cell_type": "code",
      "source": [
        "from sklearn.metrics import mean_squared_error, r2_score, mean_absolute_error\n",
        "from math import sqrt\n",
        "from keras.models import Sequential\n",
        "from keras.layers import LSTM, Dense, Attention\n",
        "from keras.optimizers import Adam\n",
        "from keras.callbacks import EarlyStopping"
      ],
      "metadata": {
        "id": "wUIKo_pudfPy"
      },
      "execution_count": 2,
      "outputs": []
    },
    {
      "cell_type": "code",
      "source": [
        "from google.colab import drive\n",
        "drive.mount('/content/drive')"
      ],
      "metadata": {
        "colab": {
          "base_uri": "https://localhost:8080/"
        },
        "id": "vvijOgi0dhY3",
        "outputId": "5ea64495-6601-44ef-f5f2-b6b4355834d3"
      },
      "execution_count": 3,
      "outputs": [
        {
          "output_type": "stream",
          "name": "stdout",
          "text": [
            "Mounted at /content/drive\n"
          ]
        }
      ]
    },
    {
      "cell_type": "code",
      "source": [
        "!cp \"/content/drive/MyDrive/CMAPSS.zip\" \"/content\"\n",
        "!unzip CMAPSS.zip"
      ],
      "metadata": {
        "colab": {
          "base_uri": "https://localhost:8080/"
        },
        "id": "c2sjBlRodnKm",
        "outputId": "0612ed30-dca6-47c2-8fcd-c6dd9f901ed5"
      },
      "execution_count": 4,
      "outputs": [
        {
          "output_type": "stream",
          "name": "stdout",
          "text": [
            "Archive:  CMAPSS.zip\n",
            "  inflating: CMAPSS/readme.txt       \n",
            "  inflating: CMAPSS/RUL_FD001.txt    \n",
            "  inflating: CMAPSS/RUL_FD002.txt    \n",
            "  inflating: CMAPSS/RUL_FD003.txt    \n",
            "  inflating: CMAPSS/RUL_FD004.txt    \n",
            "  inflating: CMAPSS/test_FD001.txt   \n",
            "  inflating: CMAPSS/test_FD002.txt   \n",
            "  inflating: CMAPSS/test_FD003.txt   \n",
            "  inflating: CMAPSS/test_FD004.txt   \n",
            "  inflating: CMAPSS/train_FD001.txt  \n",
            "  inflating: CMAPSS/train_FD002.txt  \n",
            "  inflating: CMAPSS/train_FD003.txt  \n",
            "  inflating: CMAPSS/train_FD004.txt  \n",
            "  inflating: CMAPSS/x.txt            \n"
          ]
        }
      ]
    },
    {
      "cell_type": "code",
      "source": [
        "index_names = ['unit_number', 'time_cycles']\n",
        "setting_names = ['setting_1', 'setting_2', 'setting_3']\n",
        "sensor_names = ['sensor_{}'.format(i) for i in range(1,22)]\n",
        "col_names = index_names + setting_names + sensor_names"
      ],
      "metadata": {
        "id": "BcpIQ86lduDX"
      },
      "execution_count": 5,
      "outputs": []
    },
    {
      "cell_type": "code",
      "source": [
        "path = '/content/CMAPSS/'"
      ],
      "metadata": {
        "id": "M37z7cyUdvDP"
      },
      "execution_count": 6,
      "outputs": []
    },
    {
      "cell_type": "code",
      "source": [
        "train_df = pd.read_csv(path+'train_FD003.txt', delimiter=' ', header=None)\n",
        "columns = ['unit_number', 'time_in_cycles', 'operational_setting_1', 'operational_setting_2', 'operational_setting_3'] + [f'sensor_{i}' for i in range(1, 24)]\n",
        "train_df.columns = columns"
      ],
      "metadata": {
        "id": "5QAPBolmdxel"
      },
      "execution_count": 30,
      "outputs": []
    },
    {
      "cell_type": "code",
      "source": [
        "max_cycles = train_df.groupby('unit_number')['time_in_cycles'].max().reset_index()\n",
        "max_cycles.columns = ['unit_number', 'max_cycles']\n",
        "train_df = train_df.merge(max_cycles, on='unit_number', how='left')\n",
        "train_df['RUL'] = train_df['max_cycles'] - train_df['time_in_cycles']\n",
        "train_df.drop('max_cycles', axis=1, inplace=True)"
      ],
      "metadata": {
        "id": "gnxTdivjd1EX"
      },
      "execution_count": 31,
      "outputs": []
    },
    {
      "cell_type": "code",
      "source": [
        "def prepare_sequences(data, n_steps):\n",
        "    X, y = [], []\n",
        "    for i in range(len(data)):\n",
        "        end_ix = i + n_steps\n",
        "        if end_ix > len(data)-1:\n",
        "            break\n",
        "        seq_x, seq_y = data[i:end_ix, :-1], data[end_ix, -1]\n",
        "        X.append(seq_x)\n",
        "        y.append(seq_y)\n",
        "    return np.array(X), np.array(y)"
      ],
      "metadata": {
        "id": "IBsWWycgdnM2"
      },
      "execution_count": 32,
      "outputs": []
    },
    {
      "cell_type": "code",
      "source": [
        "n_steps = 20\n"
      ],
      "metadata": {
        "id": "cn7DtslsdnQn"
      },
      "execution_count": 33,
      "outputs": []
    },
    {
      "cell_type": "code",
      "source": [
        "data = train_df.drop(columns=['unit_number', 'time_in_cycles']).values"
      ],
      "metadata": {
        "id": "2soEiK8dd9qJ"
      },
      "execution_count": 34,
      "outputs": []
    },
    {
      "cell_type": "code",
      "source": [
        "X, y = prepare_sequences(data, n_steps)"
      ],
      "metadata": {
        "id": "Nqm0jrbOeAGz"
      },
      "execution_count": 35,
      "outputs": []
    },
    {
      "cell_type": "code",
      "source": [
        "from keras.models import Model\n",
        "from keras.layers import LSTM, Dense, Attention, Input\n",
        "\n",
        "# Define input tensors\n",
        "query_input = Input(shape=(None, 100))  # Shape depends on the output shape of the LSTM layer\n",
        "value_input = Input(shape=(None, 100))  # Shape depends on the output shape of the LSTM layer\n",
        "\n",
        "# Define and train Input-Attn-LSTM model\n",
        "attention_output = Attention()([query_input, value_input])\n",
        "output = Dense(1)(attention_output)\n",
        "\n",
        "# Define the model\n",
        "model = Model(inputs=[query_input, value_input], outputs=output)\n",
        "\n",
        "\n"
      ],
      "metadata": {
        "id": "EAZMmpwzeEyc"
      },
      "execution_count": 36,
      "outputs": []
    },
    {
      "cell_type": "code",
      "source": [
        "from keras.models import Model\n",
        "from keras.layers import LSTM, Dense, Attention, Input, TimeDistributed\n",
        "\n",
        "# Define input tensor\n",
        "input_sequence = Input(shape=(n_steps, X.shape[2]))  # Shape: (None, 20, 26)\n",
        "\n",
        "# Define and train Input-Attn-LSTM model\n",
        "lstm_output = LSTM(100, activation='relu', return_sequences=True)(input_sequence)\n",
        "repeated_lstm_output = TimeDistributed(Dense(100))(lstm_output)  # Shape: (None, 20, 100)\n",
        "attention_output = Attention()([repeated_lstm_output, repeated_lstm_output])\n",
        "output = Dense(1)(attention_output)\n",
        "\n",
        "# Define the model\n",
        "model = Model(inputs=input_sequence, outputs=output)\n",
        "\n",
        "# Compile the model\n",
        "model.compile(optimizer='adam', loss='mse')\n",
        "\n",
        "# Train the model\n",
        "model.fit(X, y, epochs=100, verbose=0)\n"
      ],
      "metadata": {
        "colab": {
          "base_uri": "https://localhost:8080/"
        },
        "id": "1iQtPZ5xeGBi",
        "outputId": "f1cc419f-99ad-45b3-c483-ef8f01bed4f9"
      },
      "execution_count": 37,
      "outputs": [
        {
          "output_type": "execute_result",
          "data": {
            "text/plain": [
              "<keras.src.callbacks.History at 0x7815daed42b0>"
            ]
          },
          "metadata": {},
          "execution_count": 37
        }
      ]
    },
    {
      "cell_type": "code",
      "source": [
        "train_pred = model.predict(X)"
      ],
      "metadata": {
        "colab": {
          "base_uri": "https://localhost:8080/"
        },
        "id": "fmyfGSEKeKAF",
        "outputId": "4cce2e97-1e9f-4b2a-c2cb-f0d5fa9ddeb1"
      },
      "execution_count": 38,
      "outputs": [
        {
          "output_type": "stream",
          "name": "stdout",
          "text": [
            "772/772 [==============================] - 6s 8ms/step\n"
          ]
        }
      ]
    },
    {
      "cell_type": "code",
      "source": [
        "from math import sqrt\n",
        "from sklearn.metrics import mean_squared_error\n",
        "import numpy as np"
      ],
      "metadata": {
        "id": "xMrQKN3-dnSu"
      },
      "execution_count": 39,
      "outputs": []
    },
    {
      "cell_type": "code",
      "source": [
        "if np.isnan(train_pred).any():\n",
        "    # Replace NaN values with zeros, you can use other strategies based on your data\n",
        "    train_pred[np.isnan(train_pred)] = 0"
      ],
      "metadata": {
        "id": "BK8zb9BmdnVo"
      },
      "execution_count": 40,
      "outputs": []
    },
    {
      "cell_type": "code",
      "source": [
        "train_pred_aggregated = train_pred.mean(axis=1)  # Take the mean along the sequence axis\n",
        "\n",
        "# Ensure that train_pred_aggregated has the same shape as y\n",
        "train_pred_aggregated = train_pred_aggregated.reshape(-1)"
      ],
      "metadata": {
        "id": "ajnbvKJTdnYA"
      },
      "execution_count": 41,
      "outputs": []
    },
    {
      "cell_type": "code",
      "source": [
        "train_rmse = sqrt(mean_squared_error(y, train_pred_aggregated))\n",
        "print(f\"Train RMSE: {train_rmse}\")"
      ],
      "metadata": {
        "colab": {
          "base_uri": "https://localhost:8080/"
        },
        "id": "P9TxRiUOeWAf",
        "outputId": "581f5979-95fb-4d7f-8263-3dfb4119554f"
      },
      "execution_count": 42,
      "outputs": [
        {
          "output_type": "stream",
          "name": "stdout",
          "text": [
            "Train RMSE: 169.73174488784372\n"
          ]
        }
      ]
    },
    {
      "cell_type": "code",
      "source": [
        "from sklearn.metrics import mean_absolute_error, r2_score"
      ],
      "metadata": {
        "id": "xnmuXVU9eWCu"
      },
      "execution_count": 43,
      "outputs": []
    },
    {
      "cell_type": "code",
      "source": [
        "from sklearn.metrics import mean_absolute_error, r2_score\n",
        "\n",
        "# Aggregate predictions to get a single prediction per sample\n",
        "train_pred_aggregated = train_pred.mean(axis=1)  # Take the mean along the sequence axis\n",
        "\n",
        "# Ensure that train_pred_aggregated has the same shape as y\n",
        "train_pred_aggregated = train_pred_aggregated.reshape(-1)\n",
        "\n",
        "# Calculate mean absolute error (MAE)\n",
        "train_mae = mean_absolute_error(y, train_pred_aggregated)\n",
        "\n",
        "# Calculate R2 score\n",
        "train_r2 = r2_score(y, train_pred_aggregated)\n",
        "\n",
        "print(f\"Train R2: {train_r2}, MAE: {train_mae}\")\n"
      ],
      "metadata": {
        "colab": {
          "base_uri": "https://localhost:8080/"
        },
        "id": "HsqbR28teWHH",
        "outputId": "253443ba-a4b6-4ab4-d68d-0e58a5979747"
      },
      "execution_count": 44,
      "outputs": [
        {
          "output_type": "stream",
          "name": "stdout",
          "text": [
            "Train R2: -1.949228049736901, MAE: 137.98765182186236\n"
          ]
        }
      ]
    },
    {
      "cell_type": "code",
      "source": [
        "test_df = pd.read_csv(path+'test_FD002.txt', delimiter=' ', header=None)\n",
        "test_df.columns = columns"
      ],
      "metadata": {
        "id": "bWa8GQT6o-qd"
      },
      "execution_count": 45,
      "outputs": []
    },
    {
      "cell_type": "code",
      "source": [
        "max_cycles_test = test_df.groupby('unit_number')['time_in_cycles'].max().reset_index()\n",
        "max_cycles_test.columns = ['unit_number', 'max_cycles']\n",
        "test_df = test_df.merge(max_cycles_test, on='unit_number', how='left')\n",
        "test_df['RUL'] = test_df['max_cycles'] - test_df['time_in_cycles']\n",
        "test_df.drop('max_cycles', axis=1, inplace=True)\n"
      ],
      "metadata": {
        "id": "lX4kxE2ypDFE"
      },
      "execution_count": 46,
      "outputs": []
    },
    {
      "cell_type": "code",
      "source": [
        "data_test = test_df.drop(columns=['unit_number', 'time_in_cycles']).values\n",
        "X_test, y_test = prepare_sequences(data_test, n_steps)\n"
      ],
      "metadata": {
        "id": "MhENmev2pGsT"
      },
      "execution_count": 47,
      "outputs": []
    },
    {
      "cell_type": "code",
      "source": [
        "test_pred = model.predict(X_test)"
      ],
      "metadata": {
        "colab": {
          "base_uri": "https://localhost:8080/"
        },
        "id": "4xZmBZjfpGvL",
        "outputId": "2fcf5a82-da56-49c2-f279-2803ef9ece39"
      },
      "execution_count": 48,
      "outputs": [
        {
          "output_type": "stream",
          "name": "stdout",
          "text": [
            "1062/1062 [==============================] - 9s 8ms/step\n"
          ]
        }
      ]
    },
    {
      "cell_type": "code",
      "source": [
        "if np.isnan(test_pred).any():\n",
        "    # Replace NaN values with zeros, you can use other strategies based on your data\n",
        "    test_pred[np.isnan(test_pred)] = 0"
      ],
      "metadata": {
        "id": "CAx99bhTpLoa"
      },
      "execution_count": 49,
      "outputs": []
    },
    {
      "cell_type": "code",
      "source": [
        "test_pred_aggregated = test_pred.mean(axis=1)  # Take the mean along the sequence axis\n",
        "\n",
        "# Ensure that train_pred_aggregated has the same shape as y\n",
        "test_pred_aggregated = test_pred_aggregated.reshape(-1)"
      ],
      "metadata": {
        "id": "gT2cEWqIpMcU"
      },
      "execution_count": 50,
      "outputs": []
    },
    {
      "cell_type": "code",
      "source": [
        "from math import sqrt\n",
        "from sklearn.metrics import mean_squared_error\n",
        "\n",
        "# Ensure that the dimensions of y_test and test_pred match\n",
        "test_pred_reshaped = test_pred.reshape(-1, 1)[:len(y_test)]\n",
        "\n",
        "# Calculate RMSE for the test set\n",
        "test_rmse = sqrt(mean_squared_error(y_test, test_pred_reshaped))\n",
        "print(f\"Test RMSE: {test_rmse}\")\n"
      ],
      "metadata": {
        "colab": {
          "base_uri": "https://localhost:8080/"
        },
        "id": "u2RjzySgpTk_",
        "outputId": "9b43be05-1812-42dc-ef9e-fbb46b235aa6"
      },
      "execution_count": 51,
      "outputs": [
        {
          "output_type": "stream",
          "name": "stdout",
          "text": [
            "Test RMSE: 99.36722941015887\n"
          ]
        }
      ]
    },
    {
      "cell_type": "code",
      "source": [
        "from sklearn.metrics import mean_absolute_error, r2_score\n",
        "\n",
        "# Ensure that the dimensions of y_test and test_pred match\n",
        "test_pred_reshaped = test_pred.reshape(-1, 1)[:len(y_test)]\n",
        "\n",
        "# Calculate mean absolute error (MAE)\n",
        "test_mae = mean_absolute_error(y_test, test_pred_reshaped)\n",
        "\n",
        "# Calculate R2 score\n",
        "test_r2 = r2_score(y_test, test_pred_reshaped)\n",
        "\n",
        "print(f\"Test R2: {test_r2}, MAE: {test_mae}\")\n"
      ],
      "metadata": {
        "colab": {
          "base_uri": "https://localhost:8080/"
        },
        "id": "bsWhOMFLpV8e",
        "outputId": "955d4bc4-c0be-49b0-93b5-f5f7ac34d1ee"
      },
      "execution_count": 52,
      "outputs": [
        {
          "output_type": "stream",
          "name": "stdout",
          "text": [
            "Test R2: -1.8588321556782637, MAE: 80.12516558240853\n"
          ]
        }
      ]
    },
    {
      "cell_type": "code",
      "source": [],
      "metadata": {
        "id": "J774rLHspY7i"
      },
      "execution_count": null,
      "outputs": []
    },
    {
      "cell_type": "code",
      "source": [],
      "metadata": {
        "id": "UH4OiLzteWKO"
      },
      "execution_count": null,
      "outputs": []
    },
    {
      "cell_type": "code",
      "source": [],
      "metadata": {
        "id": "75bB_q6kdnbl"
      },
      "execution_count": null,
      "outputs": []
    }
  ]
}