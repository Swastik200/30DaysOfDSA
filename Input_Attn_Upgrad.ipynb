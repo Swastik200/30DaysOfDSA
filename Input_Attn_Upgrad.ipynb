{
  "nbformat": 4,
  "nbformat_minor": 0,
  "metadata": {
    "colab": {
      "provenance": [],
      "authorship_tag": "ABX9TyMOWQ5Ph2W8EGEe0HZ7W6O4",
      "include_colab_link": true
    },
    "kernelspec": {
      "name": "python3",
      "display_name": "Python 3"
    },
    "language_info": {
      "name": "python"
    }
  },
  "cells": [
    {
      "cell_type": "markdown",
      "metadata": {
        "id": "view-in-github",
        "colab_type": "text"
      },
      "source": [
        "<a href=\"https://colab.research.google.com/github/Swastik200/30DaysOfDSA/blob/main/Input_Attn_Upgrad.ipynb\" target=\"_parent\"><img src=\"https://colab.research.google.com/assets/colab-badge.svg\" alt=\"Open In Colab\"/></a>"
      ]
    },
    {
      "cell_type": "code",
      "execution_count": 1,
      "metadata": {
        "id": "ZLk9tSY8qdoI"
      },
      "outputs": [],
      "source": [
        "import numpy as np\n",
        "import pandas as pd\n",
        "import os\n",
        "import numpy as np\n",
        "import pandas as pd\n",
        "import seaborn as sns\n",
        "import matplotlib.pyplot as plt\n"
      ]
    },
    {
      "cell_type": "code",
      "source": [
        "from sklearn.metrics import mean_squared_error, r2_score, mean_absolute_error\n",
        "from math import sqrt\n",
        "from keras.models import Sequential\n",
        "from keras.layers import LSTM, Dense, Attention\n",
        "from keras.optimizers import Adam\n",
        "from keras.callbacks import EarlyStopping"
      ],
      "metadata": {
        "id": "C91o3tjUqxOZ"
      },
      "execution_count": 3,
      "outputs": []
    },
    {
      "cell_type": "code",
      "source": [
        "from google.colab import drive\n",
        "drive.mount('/content/drive')"
      ],
      "metadata": {
        "colab": {
          "base_uri": "https://localhost:8080/"
        },
        "id": "8AZoBgW4q_Gx",
        "outputId": "0ef3b3ed-fa31-4392-b906-3278495659c2"
      },
      "execution_count": 4,
      "outputs": [
        {
          "output_type": "stream",
          "name": "stdout",
          "text": [
            "Mounted at /content/drive\n"
          ]
        }
      ]
    },
    {
      "cell_type": "code",
      "source": [
        "!cp \"/content/drive/MyDrive/CMAPSS.zip\" \"/content\"\n",
        "!unzip CMAPSS.zip"
      ],
      "metadata": {
        "colab": {
          "base_uri": "https://localhost:8080/"
        },
        "id": "cVlBOu2IrJ9M",
        "outputId": "55a77092-c4cc-49b4-e75e-68f7b4e0029e"
      },
      "execution_count": 5,
      "outputs": [
        {
          "output_type": "stream",
          "name": "stdout",
          "text": [
            "Archive:  CMAPSS.zip\n",
            "  inflating: CMAPSS/readme.txt       \n",
            "  inflating: CMAPSS/RUL_FD001.txt    \n",
            "  inflating: CMAPSS/RUL_FD002.txt    \n",
            "  inflating: CMAPSS/RUL_FD003.txt    \n",
            "  inflating: CMAPSS/RUL_FD004.txt    \n",
            "  inflating: CMAPSS/test_FD001.txt   \n",
            "  inflating: CMAPSS/test_FD002.txt   \n",
            "  inflating: CMAPSS/test_FD003.txt   \n",
            "  inflating: CMAPSS/test_FD004.txt   \n",
            "  inflating: CMAPSS/train_FD001.txt  \n",
            "  inflating: CMAPSS/train_FD002.txt  \n",
            "  inflating: CMAPSS/train_FD003.txt  \n",
            "  inflating: CMAPSS/train_FD004.txt  \n",
            "  inflating: CMAPSS/x.txt            \n"
          ]
        }
      ]
    },
    {
      "cell_type": "code",
      "source": [
        "index_names = ['unit_number', 'time_cycles']\n",
        "setting_names = ['setting_1', 'setting_2', 'setting_3']\n",
        "sensor_names = ['sensor_{}'.format(i) for i in range(1,22)]\n",
        "col_names = index_names + setting_names + sensor_names"
      ],
      "metadata": {
        "id": "_ft6L5rDrNLw"
      },
      "execution_count": 6,
      "outputs": []
    },
    {
      "cell_type": "code",
      "source": [
        "path = '/content/CMAPSS/'"
      ],
      "metadata": {
        "id": "jxcxNwforW7a"
      },
      "execution_count": 7,
      "outputs": []
    },
    {
      "cell_type": "code",
      "source": [
        "train_df = pd.read_csv(path+'train_FD001.txt', delimiter=' ', header=None)\n",
        "columns = ['unit_number', 'time_in_cycles', 'operational_setting_1', 'operational_setting_2', 'operational_setting_3'] + [f'sensor_{i}' for i in range(1, 24)]\n",
        "train_df.columns = columns"
      ],
      "metadata": {
        "id": "a5BPhVfcrbJA"
      },
      "execution_count": 9,
      "outputs": []
    },
    {
      "cell_type": "code",
      "source": [
        "max_cycles = train_df.groupby('unit_number')['time_in_cycles'].max().reset_index()\n",
        "max_cycles.columns = ['unit_number', 'max_cycles']\n",
        "train_df = train_df.merge(max_cycles, on='unit_number', how='left')\n",
        "train_df['RUL'] = train_df['max_cycles'] - train_df['time_in_cycles']\n",
        "train_df.drop('max_cycles', axis=1, inplace=True)"
      ],
      "metadata": {
        "id": "fywno9UsrrpM"
      },
      "execution_count": 10,
      "outputs": []
    },
    {
      "cell_type": "code",
      "source": [
        "def prepare_sequences(data, n_steps):\n",
        "    X, y = [], []\n",
        "    for i in range(len(data)):\n",
        "        end_ix = i + n_steps\n",
        "        if end_ix > len(data)-1:\n",
        "            break\n",
        "        seq_x, seq_y = data[i:end_ix, :-1], data[end_ix, -1]\n",
        "        X.append(seq_x)\n",
        "        y.append(seq_y)\n",
        "    return np.array(X), np.array(y)"
      ],
      "metadata": {
        "id": "D7uX3a4XrvXB"
      },
      "execution_count": 11,
      "outputs": []
    },
    {
      "cell_type": "code",
      "source": [
        "n_steps = 20\n"
      ],
      "metadata": {
        "id": "E4MJR7bjrzV6"
      },
      "execution_count": 12,
      "outputs": []
    },
    {
      "cell_type": "code",
      "source": [
        "data = train_df.drop(columns=['unit_number', 'time_in_cycles']).values"
      ],
      "metadata": {
        "id": "qvE4W6CFr2zk"
      },
      "execution_count": 13,
      "outputs": []
    },
    {
      "cell_type": "code",
      "source": [
        "X, y = prepare_sequences(data, n_steps)"
      ],
      "metadata": {
        "id": "jWBJTguhr7Gk"
      },
      "execution_count": 14,
      "outputs": []
    },
    {
      "cell_type": "code",
      "source": [
        "from keras.models import Model\n",
        "from keras.layers import LSTM, Dense, Attention, Input\n",
        "\n",
        "# Define input tensors\n",
        "query_input = Input(shape=(None, 100))  # Shape depends on the output shape of the LSTM layer\n",
        "value_input = Input(shape=(None, 100))  # Shape depends on the output shape of the LSTM layer\n",
        "\n",
        "# Define and train Input-Attn-LSTM model\n",
        "attention_output = Attention()([query_input, value_input])\n",
        "output = Dense(1)(attention_output)\n",
        "\n",
        "# Define the model\n",
        "model = Model(inputs=[query_input, value_input], outputs=output)\n",
        "\n",
        "\n"
      ],
      "metadata": {
        "id": "flxl8xM_uBVU"
      },
      "execution_count": 29,
      "outputs": []
    },
    {
      "cell_type": "code",
      "source": [
        "from keras.models import Model\n",
        "from keras.layers import LSTM, Dense, Attention, Input, TimeDistributed\n",
        "\n",
        "# Define input tensor\n",
        "input_sequence = Input(shape=(n_steps, X.shape[2]))  # Shape: (None, 20, 26)\n",
        "\n",
        "# Define and train Input-Attn-LSTM model\n",
        "lstm_output = LSTM(100, activation='relu', return_sequences=True)(input_sequence)\n",
        "repeated_lstm_output = TimeDistributed(Dense(100))(lstm_output)  # Shape: (None, 20, 100)\n",
        "attention_output = Attention()([repeated_lstm_output, repeated_lstm_output])\n",
        "output = Dense(1)(attention_output)\n",
        "\n",
        "# Define the model\n",
        "model = Model(inputs=input_sequence, outputs=output)\n",
        "\n",
        "# Compile the model\n",
        "model.compile(optimizer='adam', loss='mse')\n",
        "\n",
        "# Train the model\n",
        "model.fit(X, y, epochs=100, verbose=0)\n"
      ],
      "metadata": {
        "colab": {
          "base_uri": "https://localhost:8080/"
        },
        "id": "i_Ev1Jpawp1O",
        "outputId": "43c7d9d5-1c3a-43d2-8419-a6d9620fd6fe"
      },
      "execution_count": 34,
      "outputs": [
        {
          "output_type": "execute_result",
          "data": {
            "text/plain": [
              "<keras.src.callbacks.History at 0x78812c2526b0>"
            ]
          },
          "metadata": {},
          "execution_count": 34
        }
      ]
    },
    {
      "cell_type": "code",
      "source": [
        "train_pred = model.predict(X)"
      ],
      "metadata": {
        "colab": {
          "base_uri": "https://localhost:8080/"
        },
        "id": "JriUVGt2vOdP",
        "outputId": "041629a3-0709-4d12-d396-5ce8e1982d58"
      },
      "execution_count": 35,
      "outputs": [
        {
          "output_type": "stream",
          "name": "stdout",
          "text": [
            "645/645 [==============================] - 9s 13ms/step\n"
          ]
        }
      ]
    },
    {
      "cell_type": "code",
      "source": [
        "from math import sqrt\n",
        "from sklearn.metrics import mean_squared_error\n",
        "import numpy as np"
      ],
      "metadata": {
        "id": "C8MQPICmvSRW"
      },
      "execution_count": 42,
      "outputs": []
    },
    {
      "cell_type": "code",
      "source": [
        "if np.isnan(train_pred).any():\n",
        "    # Replace NaN values with zeros, you can use other strategies based on your data\n",
        "    train_pred[np.isnan(train_pred)] = 0"
      ],
      "metadata": {
        "id": "891bvKsk7MXK"
      },
      "execution_count": 43,
      "outputs": []
    },
    {
      "cell_type": "code",
      "source": [
        "train_pred_aggregated = train_pred.mean(axis=1)  # Take the mean along the sequence axis\n",
        "\n",
        "# Ensure that train_pred_aggregated has the same shape as y\n",
        "train_pred_aggregated = train_pred_aggregated.reshape(-1)"
      ],
      "metadata": {
        "id": "gkyi-9Je7RE8"
      },
      "execution_count": 44,
      "outputs": []
    },
    {
      "cell_type": "code",
      "source": [
        "train_rmse = sqrt(mean_squared_error(y, train_pred_aggregated))\n",
        "print(f\"Train RMSE: {train_rmse}\")"
      ],
      "metadata": {
        "colab": {
          "base_uri": "https://localhost:8080/"
        },
        "id": "QfQttZe67VX8",
        "outputId": "f7d46852-3af0-47af-fc1d-7ea22c88267e"
      },
      "execution_count": 45,
      "outputs": [
        {
          "output_type": "stream",
          "name": "stdout",
          "text": [
            "Train RMSE: 127.87016728210297\n"
          ]
        }
      ]
    },
    {
      "cell_type": "code",
      "source": [
        "from sklearn.metrics import mean_absolute_error, r2_score"
      ],
      "metadata": {
        "id": "QxQZcaFA7b-w"
      },
      "execution_count": 47,
      "outputs": []
    },
    {
      "cell_type": "code",
      "source": [
        "from sklearn.metrics import mean_absolute_error, r2_score\n",
        "\n",
        "# Aggregate predictions to get a single prediction per sample\n",
        "train_pred_aggregated = train_pred.mean(axis=1)  # Take the mean along the sequence axis\n",
        "\n",
        "# Ensure that train_pred_aggregated has the same shape as y\n",
        "train_pred_aggregated = train_pred_aggregated.reshape(-1)\n",
        "\n",
        "# Calculate mean absolute error (MAE)\n",
        "train_mae = mean_absolute_error(y, train_pred_aggregated)\n",
        "\n",
        "# Calculate R2 score\n",
        "train_r2 = r2_score(y, train_pred_aggregated)\n",
        "\n",
        "print(f\"Train R2: {train_r2}, MAE: {train_mae}\")\n"
      ],
      "metadata": {
        "colab": {
          "base_uri": "https://localhost:8080/"
        },
        "id": "fKmBLkK57vKx",
        "outputId": "91964dd9-7534-4c2f-9c53-02a708885b84"
      },
      "execution_count": 50,
      "outputs": [
        {
          "output_type": "stream",
          "name": "stdout",
          "text": [
            "Train R2: -2.446871795249147, MAE: 107.73635437387803\n"
          ]
        }
      ]
    },
    {
      "cell_type": "code",
      "source": [
        "test_df = pd.read_csv(path+'test_FD001.txt', delimiter=' ', header=None)\n",
        "test_df.columns = columns"
      ],
      "metadata": {
        "id": "G-lDvnuy8Li8"
      },
      "execution_count": 51,
      "outputs": []
    },
    {
      "cell_type": "code",
      "source": [
        "max_cycles_test = test_df.groupby('unit_number')['time_in_cycles'].max().reset_index()\n",
        "max_cycles_test.columns = ['unit_number', 'max_cycles']\n",
        "test_df = test_df.merge(max_cycles_test, on='unit_number', how='left')\n",
        "test_df['RUL'] = test_df['max_cycles'] - test_df['time_in_cycles']\n",
        "test_df.drop('max_cycles', axis=1, inplace=True)\n"
      ],
      "metadata": {
        "id": "ppvufnNs8QhW"
      },
      "execution_count": 52,
      "outputs": []
    },
    {
      "cell_type": "code",
      "source": [
        "data_test = test_df.drop(columns=['unit_number', 'time_in_cycles']).values\n",
        "X_test, y_test = prepare_sequences(data_test, n_steps)\n"
      ],
      "metadata": {
        "id": "JByT4mNT8UdI"
      },
      "execution_count": 53,
      "outputs": []
    },
    {
      "cell_type": "code",
      "source": [
        "test_pred = model.predict(X_test)"
      ],
      "metadata": {
        "colab": {
          "base_uri": "https://localhost:8080/"
        },
        "id": "Q0vefAK38Xs_",
        "outputId": "5056c292-ffe9-4858-b9fc-c1dae1b66604"
      },
      "execution_count": 54,
      "outputs": [
        {
          "output_type": "stream",
          "name": "stdout",
          "text": [
            "409/409 [==============================] - 4s 9ms/step\n"
          ]
        }
      ]
    },
    {
      "cell_type": "code",
      "source": [
        "if np.isnan(test_pred).any():\n",
        "    # Replace NaN values with zeros, you can use other strategies based on your data\n",
        "    test_pred[np.isnan(test_pred)] = 0"
      ],
      "metadata": {
        "id": "d5p0IuWM8eTd"
      },
      "execution_count": 59,
      "outputs": []
    },
    {
      "cell_type": "code",
      "source": [
        "test_pred_aggregated = test_pred.mean(axis=1)  # Take the mean along the sequence axis\n",
        "\n",
        "# Ensure that train_pred_aggregated has the same shape as y\n",
        "test_pred_aggregated = test_pred_aggregated.reshape(-1)"
      ],
      "metadata": {
        "id": "sVLf5_EG9zgf"
      },
      "execution_count": 60,
      "outputs": []
    },
    {
      "cell_type": "code",
      "source": [
        "from math import sqrt\n",
        "from sklearn.metrics import mean_squared_error\n",
        "\n",
        "# Ensure that the dimensions of y_test and test_pred match\n",
        "test_pred_reshaped = test_pred.reshape(-1, 1)[:len(y_test)]\n",
        "\n",
        "# Calculate RMSE for the test set\n",
        "test_rmse = sqrt(mean_squared_error(y_test, test_pred_reshaped))\n",
        "print(f\"Test RMSE: {test_rmse}\")\n"
      ],
      "metadata": {
        "colab": {
          "base_uri": "https://localhost:8080/"
        },
        "id": "tz8OASKN9_En",
        "outputId": "71ef8194-d4e2-489c-b3c9-aaca5ee2927a"
      },
      "execution_count": 73,
      "outputs": [
        {
          "output_type": "stream",
          "name": "stdout",
          "text": [
            "Test RMSE: 92.6201661735329\n"
          ]
        }
      ]
    },
    {
      "cell_type": "code",
      "source": [
        "from sklearn.metrics import mean_absolute_error, r2_score\n",
        "\n",
        "# Ensure that the dimensions of y_test and test_pred match\n",
        "test_pred_reshaped = test_pred.reshape(-1, 1)[:len(y_test)]\n",
        "\n",
        "# Calculate mean absolute error (MAE)\n",
        "test_mae = mean_absolute_error(y_test, test_pred_reshaped)\n",
        "\n",
        "# Calculate R2 score\n",
        "test_r2 = r2_score(y_test, test_pred_reshaped)\n",
        "\n",
        "print(f\"Test R2: {test_r2}, MAE: {test_mae}\")\n"
      ],
      "metadata": {
        "colab": {
          "base_uri": "https://localhost:8080/"
        },
        "id": "ut6qE0Yc_2_Q",
        "outputId": "0c8995f5-3315-43c7-8573-43d362d62c7c"
      },
      "execution_count": 75,
      "outputs": [
        {
          "output_type": "stream",
          "name": "stdout",
          "text": [
            "Test R2: -2.0479926934232546, MAE: 75.92115325787702\n"
          ]
        }
      ]
    },
    {
      "cell_type": "code",
      "source": [
        "import pandas as pd\n",
        "\n",
        "# Replace NaN values with the mean of each column\n",
        "train_df.fillna(train_df.mean(), inplace=True)\n"
      ],
      "metadata": {
        "id": "B6T4W-Fl641I"
      },
      "execution_count": 40,
      "outputs": []
    },
    {
      "cell_type": "code",
      "source": [],
      "metadata": {
        "id": "og7CpSWFvqqM"
      },
      "execution_count": 25,
      "outputs": []
    },
    {
      "cell_type": "code",
      "source": [],
      "metadata": {
        "id": "IEKmdbB9vtiw"
      },
      "execution_count": 25,
      "outputs": []
    },
    {
      "cell_type": "code",
      "source": [],
      "metadata": {
        "id": "IjnEwudtrSqP"
      },
      "execution_count": null,
      "outputs": []
    }
  ]
}